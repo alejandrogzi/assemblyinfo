{
 "cells": [
  {
   "cell_type": "markdown",
   "id": "4437fad6-efac-4e45-be44-95209372a90f",
   "metadata": {},
   "source": [
    "# Change between chromosome naming nomenclatures easily!\n",
    "\n",
    "Have problems on chromosome naming nomenclatures? GenomeInfo provides a simple interface to interchange them!"
   ]
  },
  {
   "cell_type": "code",
   "execution_count": 1,
   "id": "7c560ee6-29d5-41ea-805c-d2deda54806d",
   "metadata": {},
   "outputs": [
    {
     "name": "stdout",
     "output_type": "stream",
     "text": [
      "Defaulting to user installation because normal site-packages is not writeable\n",
      "Requirement already satisfied: assemblyinfo in /home/alejandro/.local/lib/python3.11/site-packages (0.0.1)\n",
      "Requirement already satisfied: numpy<2,>=1.10 in /usr/lib64/python3.11/site-packages (from assemblyinfo) (1.24.3)\n",
      "Requirement already satisfied: pandas>=1.3 in /home/alejandro/.local/lib/python3.11/site-packages (from assemblyinfo) (1.5.3)\n",
      "Requirement already satisfied: pyarrow>=5.0 in /home/alejandro/.local/lib/python3.11/site-packages (from assemblyinfo) (16.1.0)\n",
      "Requirement already satisfied: python-dateutil>=2.8.1 in /usr/lib/python3.11/site-packages (from pandas>=1.3->assemblyinfo) (2.8.2)\n",
      "Requirement already satisfied: pytz>=2020.1 in /usr/lib/python3.11/site-packages (from pandas>=1.3->assemblyinfo) (2023.3.post1)\n",
      "Requirement already satisfied: six>=1.5 in /usr/lib/python3.11/site-packages (from python-dateutil>=2.8.1->pandas>=1.3->assemblyinfo) (1.16.0)\n"
     ]
    }
   ],
   "source": [
    "!pip3 install assemblyinfo"
   ]
  },
  {
   "cell_type": "code",
   "execution_count": 2,
   "id": "d4d75d6a-fc2b-40bc-b0c5-db88e929ebc6",
   "metadata": {},
   "outputs": [],
   "source": [
    "import assemblyinfo"
   ]
  },
  {
   "cell_type": "code",
   "execution_count": 3,
   "id": "a8445238-e034-4802-a09e-e2d1735cd885",
   "metadata": {},
   "outputs": [],
   "source": [
    "# use the connect() method to retrieve our database!\n",
    "\n",
    "db = assemblyinfo.connect()"
   ]
  },
  {
   "cell_type": "code",
   "execution_count": 5,
   "id": "6dc5c5dd-fcba-445e-ba90-853a429340c1",
   "metadata": {},
   "outputs": [
    {
     "data": {
      "text/plain": [
       "'Genome Information for homo_sapiens:\\n===================\\nCommon Names:\\n  - human\\n\\nAssemblies (UCSC):\\n  - hg19, hg38, hg17, hg18, hs1\\n\\nAssemblies (NCBI):\\n  - GRCh37, GRCh38, NCBI35, NCBI36, T2T-CHM13\\n\\n'"
      ]
     },
     "execution_count": 5,
     "metadata": {},
     "output_type": "execute_result"
    }
   ],
   "source": [
    "# you can easily see what assemblies are available for each species using 'get_species_info()'\n",
    "\n",
    "db.get_species_info(\"homo_sapiens\")"
   ]
  },
  {
   "cell_type": "code",
   "execution_count": 10,
   "id": "42c7b9fc-0312-4f25-b2c3-d4f166c2a03b",
   "metadata": {},
   "outputs": [
    {
     "data": {
      "text/plain": [
       "['1',\n",
       " '2',\n",
       " '3',\n",
       " '4',\n",
       " '5',\n",
       " '6',\n",
       " '7',\n",
       " '8',\n",
       " '9',\n",
       " '10',\n",
       " '11',\n",
       " '12',\n",
       " '13',\n",
       " '14',\n",
       " '15',\n",
       " '16',\n",
       " '17',\n",
       " '18',\n",
       " '19',\n",
       " '20',\n",
       " '21',\n",
       " '22',\n",
       " 'X',\n",
       " 'Y',\n",
       " 'MT']"
      ]
     },
     "execution_count": 10,
     "metadata": {},
     "output_type": "execute_result"
    }
   ],
   "source": [
    "# if you only need AssemblyInfo as wrapper to extract names of assembled chromosomes:\n",
    "\n",
    "hg38 = db.assembly_info(\"hg38\", roles=[\"assembled\"], provider=\"ncbi\")\n",
    "hg38.chromnames"
   ]
  },
  {
   "cell_type": "code",
   "execution_count": 11,
   "id": "5cf13f48-4f7e-41dd-b7bf-414cfaff1eaf",
   "metadata": {},
   "outputs": [
    {
     "data": {
      "text/plain": [
       "['MSCHRUN_CTG1',\n",
       " 'MSCHRUN_CTG13',\n",
       " 'MSCHRUN_CTG14',\n",
       " 'MSCHRUN_CTG21',\n",
       " 'MSCHRUN_CTG2',\n",
       " 'MSCHRUN_CTG22',\n",
       " 'MSCHRUN_CTG19',\n",
       " 'MSCHRUN_CTG16',\n",
       " 'MSCHRUN_CTG3',\n",
       " 'MSCHRUN_CTG20',\n",
       " 'MSCHRUN_CTG4',\n",
       " 'MSCHRUN_CTG5',\n",
       " 'MSCHRUN_CTG6',\n",
       " 'MSCHRUN_CTG7',\n",
       " 'MSCHRUN_CTG17',\n",
       " 'MSCHRUN_CTG18',\n",
       " 'MSCHRUN_CTG9',\n",
       " 'MSCHRUN_CTG10',\n",
       " 'MSCHRUN_CTG11',\n",
       " 'MSCHRUN_CTG12',\n",
       " 'MSCHRUN_CTG15',\n",
       " 'MSCHRUN_CTG23']"
      ]
     },
     "execution_count": 11,
     "metadata": {},
     "output_type": "execute_result"
    }
   ],
   "source": [
    "# what if (for some strange reason) we need the names of unplaced sequences in mm10?\n",
    "\n",
    "mm10 = db.assembly_info(\"mm10\", roles=[\"unplaced\"], provider=\"ncbi\")\n",
    "mm10.chromnames"
   ]
  },
  {
   "cell_type": "code",
   "execution_count": 12,
   "id": "88927824-be4d-404f-b754-32eac4d3a65b",
   "metadata": {},
   "outputs": [
    {
     "data": {
      "text/plain": [
       "['chr1_GL456210_random',\n",
       " 'chr1_GL456211_random',\n",
       " 'chr1_GL456212_random',\n",
       " 'chr1_GL456213_random',\n",
       " 'chr1_GL456221_random',\n",
       " 'chr4_GL456216_random',\n",
       " 'chr4_GL456350_random',\n",
       " 'chr4_JH584292_random',\n",
       " 'chr4_JH584293_random',\n",
       " 'chr4_JH584294_random',\n",
       " 'chr4_JH584295_random',\n",
       " 'chr5_GL456354_random',\n",
       " 'chr5_JH584296_random',\n",
       " 'chr5_JH584297_random',\n",
       " 'chr5_JH584298_random',\n",
       " 'chr5_JH584299_random',\n",
       " 'chr7_GL456219_random',\n",
       " 'chrX_GL456233_random',\n",
       " 'chrY_JH584300_random',\n",
       " 'chrY_JH584301_random',\n",
       " 'chrY_JH584302_random',\n",
       " 'chrY_JH584303_random',\n",
       " 'chrUn_GL456239',\n",
       " 'chrUn_GL456359',\n",
       " 'chrUn_GL456360',\n",
       " 'chrUn_GL456366',\n",
       " 'chrUn_GL456367',\n",
       " 'chrUn_GL456368',\n",
       " 'chrUn_GL456370',\n",
       " 'chrUn_GL456372',\n",
       " 'chrUn_GL456378',\n",
       " 'chrUn_GL456379',\n",
       " 'chrUn_GL456381',\n",
       " 'chrUn_GL456382',\n",
       " 'chrUn_GL456383',\n",
       " 'chrUn_GL456385',\n",
       " 'chrUn_GL456387',\n",
       " 'chrUn_GL456389',\n",
       " 'chrUn_GL456390',\n",
       " 'chrUn_GL456392',\n",
       " 'chrUn_GL456393',\n",
       " 'chrUn_GL456394',\n",
       " 'chrUn_GL456396',\n",
       " 'chrUn_JH584304']"
      ]
     },
     "execution_count": 12,
     "metadata": {},
     "output_type": "execute_result"
    }
   ],
   "source": [
    "# now unplace and unlocalized sequences, but in UCSC format?\n",
    "\n",
    "mm10 = db.assembly_info(\"mm10\", roles=[\"unplaced\", \"unlocalized\"], provider=\"ucsc\")\n",
    "mm10.chromnames"
   ]
  }
 ],
 "metadata": {
  "kernelspec": {
   "display_name": "Python 3 (ipykernel)",
   "language": "python",
   "name": "python3"
  },
  "language_info": {
   "codemirror_mode": {
    "name": "ipython",
    "version": 3
   },
   "file_extension": ".py",
   "mimetype": "text/x-python",
   "name": "python",
   "nbconvert_exporter": "python",
   "pygments_lexer": "ipython3",
   "version": "3.11.6"
  }
 },
 "nbformat": 4,
 "nbformat_minor": 5
}
