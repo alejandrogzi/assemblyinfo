{
 "cells": [
  {
   "cell_type": "markdown",
   "id": "a8088d17-1be3-4add-80d9-ee37667d16d5",
   "metadata": {},
   "source": [
    "# Get quick insights about the species you're working on!\n",
    "\n",
    "Retrieve useful stats using AssemblyInfo for desired species."
   ]
  },
  {
   "cell_type": "code",
   "execution_count": 2,
   "id": "685ac1c1-bb6d-4b4e-a785-a101e09ee983",
   "metadata": {},
   "outputs": [
    {
     "name": "stdout",
     "output_type": "stream",
     "text": [
      "Defaulting to user installation because normal site-packages is not writeable\n",
      "Requirement already satisfied: assemblyinfo in /home/alejandro/.local/lib/python3.11/site-packages (0.0.1)\n",
      "Requirement already satisfied: numpy<2,>=1.10 in /usr/lib64/python3.11/site-packages (from assemblyinfo) (1.24.3)\n",
      "Requirement already satisfied: pandas>=1.3 in /home/alejandro/.local/lib/python3.11/site-packages (from assemblyinfo) (1.5.3)\n",
      "Requirement already satisfied: pyarrow>=5.0 in /home/alejandro/.local/lib/python3.11/site-packages (from assemblyinfo) (16.1.0)\n",
      "Requirement already satisfied: python-dateutil>=2.8.1 in /usr/lib/python3.11/site-packages (from pandas>=1.3->assemblyinfo) (2.8.2)\n",
      "Requirement already satisfied: pytz>=2020.1 in /usr/lib/python3.11/site-packages (from pandas>=1.3->assemblyinfo) (2023.3.post1)\n",
      "Requirement already satisfied: six>=1.5 in /usr/lib/python3.11/site-packages (from python-dateutil>=2.8.1->pandas>=1.3->assemblyinfo) (1.16.0)\n"
     ]
    }
   ],
   "source": [
    "!pip3 install assemblyinfo"
   ]
  },
  {
   "cell_type": "code",
   "execution_count": 3,
   "id": "e984df29-5550-49e1-8e0e-57871e4e409f",
   "metadata": {},
   "outputs": [],
   "source": [
    "# import GenomeInfo from the package!\n",
    "\n",
    "import matplotlib.pyplot as plt\n",
    "import pandas as pd\n",
    "import assemblyinfo"
   ]
  },
  {
   "cell_type": "code",
   "execution_count": 4,
   "id": "c873247a-98d9-41e9-bd5e-6b0f2537b660",
   "metadata": {},
   "outputs": [],
   "source": [
    "# use the connect() method to retrieve our database!\n",
    "\n",
    "db = assemblyinfo.connect()"
   ]
  },
  {
   "cell_type": "code",
   "execution_count": 8,
   "id": "ebb9df1d-dad9-45fd-973b-db76dd11df50",
   "metadata": {},
   "outputs": [
    {
     "data": {
      "text/plain": [
       "'Genome Information:\\n===================\\nSpecies:\\n  - caenorhabditis_elegans, homo_sapiens, mus_musculus, drosophila_melanogaster, danio_rerio, bos_taurus, gallus_gallus, canis_lupus_familiaris\\n\\nCommon Names:\\n  - celegans, human, mouse, fruitfly, zebrafish, cow, chicken, dog\\n\\nAssemblies (UCSC):\\n  - ce11, ce6, hg19, hg38, hg17, hg18, mm9, mm10, mm39, mm6, mm7, mm8, dm3, dm6, danRer6, danRer7, danRer10, danRer11, danRer5, bosTau9, galGal7, canFam4, hs1, canFam2, canFam3, canFam6, ROS_Cfam_1.0, galGal3, galGal4, galGal5, galGal6, canFam5\\n\\nAssemblies (NCBI):\\n  - WS144, WBcel215, WBcel235, WS190, WS195, GRCh37, GRCh38, NCBI35, NCBI36, MGSCv37, GRCm38, GRCm39, MGSCv34, MGSCv35, MGSCv36, Release_5, Release_6, Release_6_plus_ISO1_MT, Zv8, Zv9, GRCz10, GRCz11, Zv7, ARS-UCD1.1, ARS-UCD1.2, ARS-UCD1.3, ARS-UCD2.0, bGalGal1.mat.broiler.GRCg7b, UU_Cfam_GSD_1.0, T2T-CHM13, ASM3317019v1, ASM3317019v2, CanFam2.0, CanFam3.1, Dog10K_Boxer_Tasha, ROS_Cfam_1.0, Gallus_gallus-2.1, Gallus_gallus-4.0, Gallus_gallus-5.0, GRCg6, GRCg6a, UMICH_Zoey_3.1, ASM2820141v1\\n\\nPlease pick an entry and retrieve your desired data!'"
      ]
     },
     "execution_count": 8,
     "metadata": {},
     "output_type": "execute_result"
    }
   ],
   "source": [
    "# you can easily see what's inside the database by just running .info()\n",
    "\n",
    "db.info()"
   ]
  },
  {
   "cell_type": "code",
   "execution_count": 15,
   "id": "50d5bbfe-df27-44d7-9c7b-445822a2cace",
   "metadata": {},
   "outputs": [],
   "source": [
    "# for this example, we are going to use one of the dog assemblies as our model!\n",
    "\n",
    "df = db.assembly_info(\"canFam6\", roles=[\"assembled\"], units=[\"primary\"])"
   ]
  },
  {
   "cell_type": "code",
   "execution_count": 26,
   "id": "4df1036d-4ca5-4577-8157-a08d4e3b68c9",
   "metadata": {},
   "outputs": [],
   "source": [
    "# we will extract the ungapped length of each assembled and primary chromosomes\n",
    "\n",
    "ungapped_lengths = df.seqinfo[\"all-ungapped-length\"]"
   ]
  },
  {
   "cell_type": "code",
   "execution_count": 28,
   "id": "97fb5b8f-26b0-415a-828c-800e4b9a0e12",
   "metadata": {},
   "outputs": [
    {
     "data": {
      "image/png": "[encoded data removed]",
      "text/plain": [
       "<Figure size 432x288 with 1 Axes>"
      ]
     },
     "metadata": {
      "needs_background": "light"
     },
     "output_type": "display_data"
    }
   ],
   "source": [
    "# now, we are going to plot it!\n",
    "\n",
    "ax = (\n",
    "    ungapped_lengths\n",
    "    .plot(kind='bar', legend=False, title=\"Comparing unagpped lengths across chromosomes\")\n",
    ")\n",
    "\n",
    "plt.xticks(rotation=45, ha='right')\n",
    "plt.tight_layout()"
   ]
  }
 ],
 "metadata": {
  "kernelspec": {
   "display_name": "Python 3 (ipykernel)",
   "language": "python",
   "name": "python3"
  },
  "language_info": {
   "codemirror_mode": {
    "name": "ipython",
    "version": 3
   },
   "file_extension": ".py",
   "mimetype": "text/x-python",
   "name": "python",
   "nbconvert_exporter": "python",
   "pygments_lexer": "ipython3",
   "version": "3.11.6"
  }
 },
 "nbformat": 4,
 "nbformat_minor": 5
}
