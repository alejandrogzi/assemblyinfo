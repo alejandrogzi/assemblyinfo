{
 "cells": [
  {
   "cell_type": "markdown",
   "id": "7912e0a4-7135-4c24-9885-87324b9cce15",
   "metadata": {},
   "source": [
    "# Retrieve chromosome data using GenomeInfo!\n",
    "\n",
    "Using AssemblyInfo, we will retrieve the chromosome sizes from mm9!"
   ]
  },
  {
   "cell_type": "code",
   "execution_count": 1,
   "id": "d9fb241d-6729-49f0-85a2-e5e4be69493c",
   "metadata": {
    "scrolled": true
   },
   "outputs": [
    {
     "name": "stdout",
     "output_type": "stream",
     "text": [
      "Defaulting to user installation because normal site-packages is not writeable\n",
      "Requirement already satisfied: assemblyinfo in /home/alejandro/.local/lib/python3.11/site-packages (0.0.1)\n",
      "Requirement already satisfied: numpy<2,>=1.10 in /usr/lib64/python3.11/site-packages (from assemblyinfo) (1.24.3)\n",
      "Requirement already satisfied: pandas>=1.3 in /home/alejandro/.local/lib/python3.11/site-packages (from assemblyinfo) (1.5.3)\n",
      "Requirement already satisfied: pyarrow>=5.0 in /home/alejandro/.local/lib/python3.11/site-packages (from assemblyinfo) (16.1.0)\n",
      "Requirement already satisfied: python-dateutil>=2.8.1 in /usr/lib/python3.11/site-packages (from pandas>=1.3->assemblyinfo) (2.8.2)\n",
      "Requirement already satisfied: pytz>=2020.1 in /usr/lib/python3.11/site-packages (from pandas>=1.3->assemblyinfo) (2023.3.post1)\n",
      "Requirement already satisfied: six>=1.5 in /usr/lib/python3.11/site-packages (from python-dateutil>=2.8.1->pandas>=1.3->assemblyinfo) (1.16.0)\n"
     ]
    }
   ],
   "source": [
    "!pip3 install assemblyinfo"
   ]
  },
  {
   "cell_type": "code",
   "execution_count": 2,
   "id": "4c02d4aa-41f6-4a3c-ae1a-baaf1f305548",
   "metadata": {},
   "outputs": [],
   "source": [
    "import assemblyinfo"
   ]
  },
  {
   "cell_type": "code",
   "execution_count": 3,
   "id": "4e3f6fad-1318-4277-9b04-865a96c45392",
   "metadata": {},
   "outputs": [],
   "source": [
    "# use the connect() method to retrieve our database!\n",
    "\n",
    "db = assemblyinfo.connect()"
   ]
  },
  {
   "cell_type": "code",
   "execution_count": 5,
   "id": "184c2be8-2419-42c5-8aa6-6479a8d33baa",
   "metadata": {},
   "outputs": [
    {
     "data": {
      "text/plain": [
       "['WS144',\n",
       " 'WBcel215',\n",
       " 'WBcel235',\n",
       " 'WS190',\n",
       " 'WS195',\n",
       " 'GRCh37',\n",
       " 'GRCh38',\n",
       " 'NCBI35',\n",
       " 'NCBI36',\n",
       " 'MGSCv37',\n",
       " 'GRCm38',\n",
       " 'GRCm39',\n",
       " 'MGSCv34',\n",
       " 'MGSCv35',\n",
       " 'MGSCv36',\n",
       " 'Release_5',\n",
       " 'Release_6',\n",
       " 'Release_6_plus_ISO1_MT',\n",
       " 'Zv8',\n",
       " 'Zv9',\n",
       " 'GRCz10',\n",
       " 'GRCz11',\n",
       " 'Zv7',\n",
       " 'ARS-UCD1.1',\n",
       " 'ARS-UCD1.2',\n",
       " 'ARS-UCD1.3',\n",
       " 'ARS-UCD2.0',\n",
       " 'bGalGal1.mat.broiler.GRCg7b',\n",
       " 'UU_Cfam_GSD_1.0',\n",
       " 'T2T-CHM13',\n",
       " 'ASM3317019v1',\n",
       " 'ASM3317019v2',\n",
       " 'CanFam2.0',\n",
       " 'CanFam3.1',\n",
       " 'Dog10K_Boxer_Tasha',\n",
       " 'ROS_Cfam_1.0',\n",
       " 'Gallus_gallus-2.1',\n",
       " 'Gallus_gallus-4.0',\n",
       " 'Gallus_gallus-5.0',\n",
       " 'GRCg6',\n",
       " 'GRCg6a',\n",
       " 'UMICH_Zoey_3.1',\n",
       " 'ASM2820141v1',\n",
       " <NA>,\n",
       " 'ce11',\n",
       " 'ce6',\n",
       " 'hg19',\n",
       " 'hg38',\n",
       " 'hg17',\n",
       " 'hg18',\n",
       " 'mm9',\n",
       " 'mm10',\n",
       " 'mm39',\n",
       " 'mm6',\n",
       " 'mm7',\n",
       " 'mm8',\n",
       " 'dm3',\n",
       " 'dm6',\n",
       " 'danRer6',\n",
       " 'danRer7',\n",
       " 'danRer10',\n",
       " 'danRer11',\n",
       " 'danRer5',\n",
       " 'bosTau9',\n",
       " 'galGal7',\n",
       " 'canFam4',\n",
       " 'hs1',\n",
       " 'canFam2',\n",
       " 'canFam3',\n",
       " 'canFam6',\n",
       " 'ROS_Cfam_1.0',\n",
       " 'galGal3',\n",
       " 'galGal4',\n",
       " 'galGal5',\n",
       " 'galGal6',\n",
       " 'canFam5']"
      ]
     },
     "execution_count": 5,
     "metadata": {},
     "output_type": "execute_result"
    }
   ],
   "source": [
    "# you can easily see whhich assemblies are available by running:\n",
    "\n",
    "db.available_assemblies()"
   ]
  },
  {
   "cell_type": "code",
   "execution_count": 6,
   "id": "fd2eb51a-99fe-4050-86f7-deddc6161db2",
   "metadata": {},
   "outputs": [],
   "source": [
    "# to get the chromosome sizes you just need to use extract the data using 'assembly_info()'\n",
    "# here, we are specifying that we want only assembled chromosomes to bypass\n",
    "# scaffolds or unplaced sequences\n",
    "\n",
    "mm9 = db.assembly_info('mm9', roles=[\"assembled\"])"
   ]
  },
  {
   "cell_type": "code",
   "execution_count": 8,
   "id": "7c4e2b61-6afd-4df3-817f-63a76b70bde8",
   "metadata": {},
   "outputs": [
    {
     "data": {
      "text/plain": [
       "name\n",
       "chr1     197195432\n",
       "chr2     181748087\n",
       "chr3     159599783\n",
       "chr4     155630120\n",
       "chr5     152537259\n",
       "chr6     149517037\n",
       "chr7     152524553\n",
       "chr8     131738871\n",
       "chr9     124076172\n",
       "chr10    129993255\n",
       "chr11    121843856\n",
       "chr12    121257530\n",
       "chr13    120284312\n",
       "chr14    125194864\n",
       "chr15    103494974\n",
       "chr16     98319150\n",
       "chr17     95272651\n",
       "chr18     90772031\n",
       "chr19     61342430\n",
       "chrX     166650296\n",
       "chrY      15902555\n",
       "chrM         16299\n",
       "Name: length, dtype: Int64"
      ]
     },
     "execution_count": 8,
     "metadata": {},
     "output_type": "execute_result"
    }
   ],
   "source": [
    "# let's check out the result!\n",
    "\n",
    "mm9.chromsizes"
   ]
  }
 ],
 "metadata": {
  "kernelspec": {
   "display_name": "Python 3 (ipykernel)",
   "language": "python",
   "name": "python3"
  },
  "language_info": {
   "codemirror_mode": {
    "name": "ipython",
    "version": 3
   },
   "file_extension": ".py",
   "mimetype": "text/x-python",
   "name": "python",
   "nbconvert_exporter": "python",
   "pygments_lexer": "ipython3",
   "version": "3.11.6"
  }
 },
 "nbformat": 4,
 "nbformat_minor": 5
}
